{
  "nbformat": 4,
  "nbformat_minor": 0,
  "metadata": {
    "colab": {
      "provenance": []
    },
    "kernelspec": {
      "name": "python3",
      "display_name": "Python 3"
    },
    "language_info": {
      "name": "python"
    }
  },
  "cells": [
    {
      "cell_type": "code",
      "source": [
        "import random\n",
        "import math\n",
        "import numpy as np\n",
        "import os"
      ],
      "metadata": {
        "id": "yQ43Ic1uq5gp"
      },
      "execution_count": 1,
      "outputs": []
    },
    {
      "cell_type": "code",
      "source": [
        "from google.colab import drive\n",
        "drive.mount(\"/content/gdrive\")\n",
        "\n",
        "path_data = \"/content/gdrive/MyDrive/irProjectDatasets/extracted_data/\""
      ],
      "metadata": {
        "colab": {
          "base_uri": "https://localhost:8080/"
        },
        "id": "c1hki3iIq9tz",
        "outputId": "39b72ec4-7ca8-4d58-90b9-0a331ad021f3"
      },
      "execution_count": 2,
      "outputs": [
        {
          "output_type": "stream",
          "name": "stdout",
          "text": [
            "Mounted at /content/gdrive\n"
          ]
        }
      ]
    },
    {
      "cell_type": "code",
      "execution_count": 3,
      "metadata": {
        "id": "oo1LtYvVq2aK"
      },
      "outputs": [],
      "source": [
        "def dict_add(data_dic,keys,values):\n",
        "    if keys in data_dic.keys():\n",
        "        data_dic[keys].append(values)\n",
        "    else:\n",
        "        data_dic[keys] = [values]\n",
        "def list_str(list):\n",
        "    return [str(i) for i in list ]\n",
        "\n",
        "def read_from_file(file):\n",
        "    data = []\n",
        "    n_items = 0\n",
        "    with open(file, 'r') as f:\n",
        "        for line in f:\n",
        "            if line[:-1]:\n",
        "                lines = line[:-1].split(\"\\t\")\n",
        "                user = int(lines[0])\n",
        "                movie = int(lines[1])\n",
        "                score = float(lines[2])\n",
        "    #            sumRate=sumRate+score\n",
        "    #            time = int(lines[3])\n",
        "                data.append([user, movie,score])\n",
        "                if movie>n_items:\n",
        "                    n_items = movie\n",
        "    f.close()\n",
        "    return data,n_items\n",
        "def build_data_dic(data):\n",
        "    data_dic = {}\n",
        "    for element in data:\n",
        "        user_id,item_id,rating = element\n",
        "        dict_add(data_dic,user_id,item_id)\n",
        "    return data_dic\n",
        "\n",
        "def split_data(data_dic,filepath,split_ratio=0.8):\n",
        "    train_file = filepath+'train.txt'\n",
        "    test_file = filepath+'test.txt'\n",
        "    train_dic = {}\n",
        "    test_dic = {}\n",
        "    train_f = open(train_file,'w+')\n",
        "    test_f = open(test_file,'w+')\n",
        "    for user_id in data_dic.keys():\n",
        "        items = data_dic[user_id]\n",
        "        random.shuffle(items)\n",
        "        split_index = math.floor(len(items)*split_ratio)\n",
        "        dict_add(train_dic,user_id,items[:split_index])\n",
        "        train_f.write('\\t'.join(list_str([user_id]+items[:split_index]))+'\\n')\n",
        "        dict_add(test_dic,user_id,items[split_index:])\n",
        "        test_f.write('\\t'.join(list_str([user_id]+items[split_index:]))+'\\n')\n",
        "    train_f.close()\n",
        "    test_f.close()\n",
        "    return train_dic,test_dic\n",
        "\n",
        "def split_loo(data_dic,filepath):\n",
        "    train_file = filepath+'/train.txt'\n",
        "    test_file = filepath+'/test.txt'\n",
        "    train_dic = {}\n",
        "    test_dic = {}\n",
        "    train_f = open(train_file,'w+')\n",
        "    test_f = open(test_file,'w+')\n",
        "    for user_id in data_dic.keys():\n",
        "        items = data_dic[user_id]\n",
        "        random.shuffle(items)\n",
        "        split_index = -1\n",
        "        items_train = items[:split_index]\n",
        "        if len(items_train)>0:\n",
        "            train_dic[user_id]=items_train\n",
        "            for i in items_train:\n",
        "                train_f.write('\\t'.join(list_str([user_id]+[i]+['1']))+'\\n')\n",
        "        test_dic[user_id] = items[split_index:]\n",
        "        test_f.write('\\t'.join(list_str([user_id]+items[split_index:]+['1']))+'\\n')\n",
        "    train_f.close()\n",
        "    test_f.close()\n",
        "    return train_dic,test_dic\n",
        "def split_sparsy(train_dic,filepath,k_keep):\n",
        "    train_f = open(filepath+'train_'+str(k_keep)+'.txt','w+')\n",
        "    for user_id in train_dic.keys():\n",
        "        items = train_dic[user_id]\n",
        "        split_index = math.ceil(len(items)*k_keep)\n",
        "        for i in items[:split_index]:\n",
        "            train_f.write('\\t'.join(list_str([user_id]+[i]+['1']))+'\\n')\n",
        "    train_f.close()\n",
        "\n",
        "def get_test_neg(train_dic,test_dic,neg_num,filepath):\n",
        "    test_neg = filepath + '/test_neg.txt'\n",
        "    test_neg_f = open(test_neg,'w+')\n",
        "    for u in test_dic.keys():\n",
        "        pos_items = train_dic.get(u,[])\n",
        "        neg_items = []\n",
        "        while True:\n",
        "            if len(neg_items) == neg_num: break\n",
        "            neg_id = random.randint(0, n_items)\n",
        "            if neg_id not in train_dic.get(u,[]) and neg_id not in neg_items:\n",
        "                neg_items.append(neg_id)\n",
        "        line = str((u,test_dic[u][0]))\n",
        "        line = line +'\\t'+'\\t'.join(list_str(neg_items))\n",
        "        test_neg_f.write(line+'\\n')\n",
        "    test_neg_f.close()\n",
        "\n"
      ]
    },
    {
      "cell_type": "code",
      "source": [
        "filepath = path_data + './digital_music_cell_phones/'\n",
        "# dataset = 'cloth'\n",
        "# save_folder = filepath+ 'beauty_cloth/'\n",
        "split_init = 0\n",
        "\n",
        "data,n_items = read_from_file(filepath+'new_reindex.txt')\n",
        "data = sorted(data,key=lambda x:x[0])\n",
        "data_dic = build_data_dic(data)\n",
        "train_dic,test_dic = split_loo(data_dic,filepath)\n",
        "get_test_neg(train_dic,test_dic,99,filepath)\n",
        "print('finished')"
      ],
      "metadata": {
        "colab": {
          "base_uri": "https://localhost:8080/"
        },
        "id": "enhKucZdrDRW",
        "outputId": "a46d686b-77dd-4c67-b970-5a56b650eccd"
      },
      "execution_count": 5,
      "outputs": [
        {
          "output_type": "stream",
          "name": "stdout",
          "text": [
            "finished\n"
          ]
        }
      ]
    }
  ]
}