{
  "nbformat": 4,
  "nbformat_minor": 0,
  "metadata": {
    "colab": {
      "provenance": []
    },
    "kernelspec": {
      "name": "python3",
      "display_name": "Python 3"
    },
    "language_info": {
      "name": "python"
    }
  },
  "cells": [
    {
      "cell_type": "code",
      "source": [
        "import re\n",
        "import os\n",
        "import matplotlib.pyplot as plt"
      ],
      "metadata": {
        "id": "zNm2Af3tZKr6"
      },
      "execution_count": 8,
      "outputs": []
    },
    {
      "cell_type": "code",
      "execution_count": 36,
      "metadata": {
        "colab": {
          "base_uri": "https://localhost:8080/"
        },
        "id": "cP4rNtIEY7Ec",
        "outputId": "1c54091b-ff78-4091-e15b-53963d2b777b"
      },
      "outputs": [
        {
          "output_type": "stream",
          "name": "stdout",
          "text": [
            "e6.txt 40.0 HIT rates are 0.141 0.128 0.113\n",
            "e3.txt 25.0 HIT rates are 0.16 0.124 0.134\n",
            "e7.txt 45.0 HIT rates are 0.188 0.111 0.092\n",
            "e4.txt 27.0 HIT rates are 0.141 0.155 0.108\n",
            "e1.txt 23.0 HIT rates are 0.169 0.111 0.108\n",
            "e5.txt 44.0 HIT rates are 0.169 0.102 0.175\n",
            "e2.txt 11.0 HIT rates are 0.122 0.124 0.118\n",
            "e8.txt 40.0 HIT rates are 0.15 0.124 0.108\n"
          ]
        }
      ],
      "source": [
        "folder_path = '/content/logs/'\n",
        "for file_name in os.listdir(folder_path):\n",
        "  file_path = os.path.join(folder_path, file_name)\n",
        "  try:\n",
        "    file1 = open(file_path, 'r')\n",
        "  except:\n",
        "    continue\n",
        "  content = file1.read()\n",
        "  # pattern0 = \"domain 0 NDCG: \"\n",
        "  # matches0 = list(re.finditer(pattern0, content))\n",
        "  # pattern1 = \"domain 1 NDCG: \"\n",
        "  # matches1 = list(re.finditer(pattern1, content))\n",
        "  # pattern2 = \"domain 2 NDCG: \"\n",
        "  # matches2 = list(re.finditer(pattern2, content))\n",
        "  \n",
        "  # maxav = 0\n",
        "  # maxep = ''\n",
        "  # maxndcg0 = 0\n",
        "  # maxndcg1 = 0\n",
        "  # maxndcg2 = 0\n",
        "  pattern = 'HIT: '\n",
        "  matches = list(re.finditer(pattern, content))\n",
        "\n",
        "  maxht = 0\n",
        "  ep = 0\n",
        "  ht0 = 0\n",
        "  ht1 = 0\n",
        "  ht2 = 0\n",
        "  \n",
        "  for i in range(0,len(matches),3):\n",
        "    hit0 = float(content[matches[i].end():matches[i].end()+5])\n",
        "    hit1 = float(content[matches[i+1].end():matches[i+1].end()+5])\n",
        "    hit2 = float(content[matches[i+2].end():matches[i+2].end()+5])\n",
        "    # print(matches[i].end())\n",
        "    if hit0+hit1+hit2>maxht:\n",
        "      maxht = hit0+hit1+hit2\n",
        "      ht0 = hit0\n",
        "      ht1 = hit1\n",
        "      ht2 = hit2\n",
        "      ep = i/3 + 1\n",
        "  print(file_name, ep, 'HIT rates are', ht0, ht1, ht2)\n",
        "    \n",
        "  # for i in range(len(matches0)):\n",
        "  #   ndcg0 = float(content[matches0[i].end():matches0[i].end()+5])\n",
        "  #   ndcg1 = float(content[matches1[i].end():matches1[i].end()+5])\n",
        "  #   ndcg2 = float(content[matches2[i].end():matches2[i].end()+5])\n",
        "  #   if ndcg0+ndcg1+ndcg2>maxav:\n",
        "  #     maxav = ndcg0+ndcg1+ndcg2\n",
        "  #     maxep = i+1\n",
        "  #     maxndcg0 = ndcg0\n",
        "  #     maxndcg1 = ndcg1\n",
        "  #     maxndcg2 = ndcg2\n",
        "\n",
        "  # print(f'In {file_name} at epoch {maxep} ndcg domain0 {maxndcg0} domain1 {maxndcg1} domain2 {maxndcg2}' )\n",
        "  \n",
        "  # lst = []\n",
        "  # for match in matches:\n",
        "  #   ndcg_index = match.end()\n",
        "  #   lst+=[float(content[ndcg_index:ndcg_index+5])]\n",
        "    # print(f\"Found the sequence at index {content[ndcg_index:ndcg_index+5]}\")\n",
        "  # plt.plot(lst)\n",
        "  # plt.title(file_name)\n",
        "  # plt.show()\n",
        "  # print()"
      ]
    },
    {
      "cell_type": "code",
      "source": [],
      "metadata": {
        "id": "mglF_lScaVfq"
      },
      "execution_count": null,
      "outputs": []
    }
  ]
}