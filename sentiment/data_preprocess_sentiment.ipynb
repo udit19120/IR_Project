{
 "cells": [
  {
   "cell_type": "code",
   "execution_count": 1,
   "id": "7690a145",
   "metadata": {},
   "outputs": [
    {
     "name": "stdout",
     "output_type": "stream",
     "text": [
      "Defaulting to user installation because normal site-packages is not writeable\n",
      "Requirement already satisfied: nltk in c:\\users\\udit1\\appdata\\roaming\\python\\python310\\site-packages (3.7)\n",
      "Requirement already satisfied: tqdm in c:\\users\\udit1\\appdata\\roaming\\python\\python310\\site-packages (from nltk) (4.64.1)\n",
      "Requirement already satisfied: click in c:\\users\\udit1\\appdata\\roaming\\python\\python310\\site-packages (from nltk) (8.1.3)\n",
      "Requirement already satisfied: joblib in c:\\users\\udit1\\appdata\\roaming\\python\\python310\\site-packages (from nltk) (1.2.0)\n",
      "Requirement already satisfied: regex>=2021.8.3 in c:\\users\\udit1\\appdata\\roaming\\python\\python310\\site-packages (from nltk) (2022.9.13)\n",
      "Requirement already satisfied: colorama in c:\\users\\udit1\\appdata\\roaming\\python\\python310\\site-packages (from click->nltk) (0.4.5)\n"
     ]
    },
    {
     "name": "stderr",
     "output_type": "stream",
     "text": [
      "WARNING: You are using pip version 22.0.4; however, version 23.0.1 is available.\n",
      "You should consider upgrading via the 'C:\\Program Files\\Python310\\python.exe -m pip install --upgrade pip' command.\n"
     ]
    },
    {
     "name": "stdout",
     "output_type": "stream",
     "text": [
      "Defaulting to user installation because normal site-packages is not writeable\n",
      "Requirement already satisfied: contractions in c:\\users\\udit1\\appdata\\roaming\\python\\python310\\site-packages (0.1.73)\n",
      "Requirement already satisfied: textsearch>=0.0.21 in c:\\users\\udit1\\appdata\\roaming\\python\\python310\\site-packages (from contractions) (0.0.24)\n",
      "Requirement already satisfied: anyascii in c:\\users\\udit1\\appdata\\roaming\\python\\python310\\site-packages (from textsearch>=0.0.21->contractions) (0.3.1)\n",
      "Requirement already satisfied: pyahocorasick in c:\\users\\udit1\\appdata\\roaming\\python\\python310\\site-packages (from textsearch>=0.0.21->contractions) (2.0.0)\n"
     ]
    },
    {
     "name": "stderr",
     "output_type": "stream",
     "text": [
      "WARNING: You are using pip version 22.0.4; however, version 23.0.1 is available.\n",
      "You should consider upgrading via the 'C:\\Program Files\\Python310\\python.exe -m pip install --upgrade pip' command.\n"
     ]
    },
    {
     "name": "stdout",
     "output_type": "stream",
     "text": [
      "Defaulting to user installation because normal site-packages is not writeable\n",
      "Requirement already satisfied: vaderSentiment in c:\\users\\udit1\\appdata\\roaming\\python\\python310\\site-packages (3.3.2)\n",
      "Requirement already satisfied: requests in c:\\users\\udit1\\appdata\\roaming\\python\\python310\\site-packages (from vaderSentiment) (2.28.1)\n",
      "Requirement already satisfied: urllib3<1.27,>=1.21.1 in c:\\users\\udit1\\appdata\\roaming\\python\\python310\\site-packages (from requests->vaderSentiment) (1.26.12)\n",
      "Requirement already satisfied: charset-normalizer<3,>=2 in c:\\users\\udit1\\appdata\\roaming\\python\\python310\\site-packages (from requests->vaderSentiment) (2.1.1)\n",
      "Requirement already satisfied: certifi>=2017.4.17 in c:\\users\\udit1\\appdata\\roaming\\python\\python310\\site-packages (from requests->vaderSentiment) (2022.9.14)\n",
      "Requirement already satisfied: idna<4,>=2.5 in c:\\users\\udit1\\appdata\\roaming\\python\\python310\\site-packages (from requests->vaderSentiment) (3.4)\n"
     ]
    },
    {
     "name": "stderr",
     "output_type": "stream",
     "text": [
      "WARNING: You are using pip version 22.0.4; however, version 23.0.1 is available.\n",
      "You should consider upgrading via the 'C:\\Program Files\\Python310\\python.exe -m pip install --upgrade pip' command.\n",
      "[nltk_data] Error loading punkt: <urlopen error [WinError 10054] An\n",
      "[nltk_data]     existing connection was forcibly closed by the remote\n",
      "[nltk_data]     host>\n",
      "[nltk_data] Error loading stopwords: <urlopen error [WinError 10054]\n",
      "[nltk_data]     An existing connection was forcibly closed by the\n",
      "[nltk_data]     remote host>\n"
     ]
    },
    {
     "data": {
      "text/plain": [
       "False"
      ]
     },
     "execution_count": 1,
     "metadata": {},
     "output_type": "execute_result"
    }
   ],
   "source": [
    "!pip install nltk\n",
    "!pip install contractions\n",
    "!pip install vaderSentiment\n",
    "import nltk\n",
    "nltk.download('punkt')\n",
    "nltk.download('stopwords')"
   ]
  },
  {
   "cell_type": "code",
   "execution_count": 2,
   "id": "6c23bb27",
   "metadata": {},
   "outputs": [],
   "source": [
    "from nltk.tokenize import word_tokenize\n",
    "from nltk.stem import PorterStemmer\n",
    "from nltk import word_tokenize,sent_tokenize\n",
    "from nltk.corpus import stopwords\n",
    "\n",
    "import os\n",
    "import pickle\n",
    "from vaderSentiment.vaderSentiment import SentimentIntensityAnalyzer"
   ]
  },
  {
   "cell_type": "code",
   "execution_count": null,
   "id": "4f0903c0",
   "metadata": {},
   "outputs": [],
   "source": []
  },
  {
   "cell_type": "code",
   "execution_count": 3,
   "id": "f4193f15",
   "metadata": {},
   "outputs": [],
   "source": [
    "import numpy as np\n",
    "import pandas as pd\n",
    "import contractions\n",
    "import re\n",
    "import string"
   ]
  },
  {
   "cell_type": "code",
   "execution_count": 4,
   "id": "cd772623",
   "metadata": {},
   "outputs": [],
   "source": [
    "file_name=\"cell_phones\"\n"
   ]
  },
  {
   "cell_type": "code",
   "execution_count": 5,
   "id": "c8ed203e",
   "metadata": {},
   "outputs": [],
   "source": [
    "df=pd.read_csv(file_name+\".csv\")"
   ]
  },
  {
   "cell_type": "code",
   "execution_count": 6,
   "id": "c74cf416",
   "metadata": {},
   "outputs": [
    {
     "data": {
      "text/html": [
       "<div>\n",
       "<style scoped>\n",
       "    .dataframe tbody tr th:only-of-type {\n",
       "        vertical-align: middle;\n",
       "    }\n",
       "\n",
       "    .dataframe tbody tr th {\n",
       "        vertical-align: top;\n",
       "    }\n",
       "\n",
       "    .dataframe thead th {\n",
       "        text-align: right;\n",
       "    }\n",
       "</style>\n",
       "<table border=\"1\" class=\"dataframe\">\n",
       "  <thead>\n",
       "    <tr style=\"text-align: right;\">\n",
       "      <th></th>\n",
       "      <th>UserID</th>\n",
       "      <th>ProductID</th>\n",
       "      <th>Review</th>\n",
       "      <th>Overall Rating</th>\n",
       "      <th>Review Time</th>\n",
       "    </tr>\n",
       "  </thead>\n",
       "  <tbody>\n",
       "    <tr>\n",
       "      <th>0</th>\n",
       "      <td>A24E3SXTC62LJI</td>\n",
       "      <td>7508492919</td>\n",
       "      <td>Looks even better in person. Be careful to not...</td>\n",
       "      <td>5.0</td>\n",
       "      <td>1407110400</td>\n",
       "    </tr>\n",
       "    <tr>\n",
       "      <th>1</th>\n",
       "      <td>A269FLZCB4GIPV</td>\n",
       "      <td>7508492919</td>\n",
       "      <td>When you don't want to spend a whole lot of ca...</td>\n",
       "      <td>5.0</td>\n",
       "      <td>1392163200</td>\n",
       "    </tr>\n",
       "    <tr>\n",
       "      <th>2</th>\n",
       "      <td>AB6CHQWHZW4TV</td>\n",
       "      <td>7508492919</td>\n",
       "      <td>so the case came on time, i love the design. I...</td>\n",
       "      <td>3.0</td>\n",
       "      <td>1391817600</td>\n",
       "    </tr>\n",
       "    <tr>\n",
       "      <th>3</th>\n",
       "      <td>A1M117A53LEI8</td>\n",
       "      <td>7508492919</td>\n",
       "      <td>DON'T CARE FOR IT.  GAVE IT AS A GIFT AND THEY...</td>\n",
       "      <td>2.0</td>\n",
       "      <td>1391472000</td>\n",
       "    </tr>\n",
       "    <tr>\n",
       "      <th>4</th>\n",
       "      <td>A272DUT8M88ZS8</td>\n",
       "      <td>7508492919</td>\n",
       "      <td>I liked it because it was cute, but the studs ...</td>\n",
       "      <td>4.0</td>\n",
       "      <td>1391385600</td>\n",
       "    </tr>\n",
       "    <tr>\n",
       "      <th>...</th>\n",
       "      <td>...</td>\n",
       "      <td>...</td>\n",
       "      <td>...</td>\n",
       "      <td>...</td>\n",
       "      <td>...</td>\n",
       "    </tr>\n",
       "    <tr>\n",
       "      <th>1127667</th>\n",
       "      <td>A1QWMCG1FNEP3A</td>\n",
       "      <td>B01HJC7N4C</td>\n",
       "      <td>Good for viewing. But doesn't have a button or...</td>\n",
       "      <td>4.0</td>\n",
       "      <td>1482364800</td>\n",
       "    </tr>\n",
       "    <tr>\n",
       "      <th>1127668</th>\n",
       "      <td>A3FOBEJ9UVUTR3</td>\n",
       "      <td>B01HJC7N4C</td>\n",
       "      <td>I was given the Rockrok 3D VR Glasses Headset ...</td>\n",
       "      <td>5.0</td>\n",
       "      <td>1468540800</td>\n",
       "    </tr>\n",
       "    <tr>\n",
       "      <th>1127669</th>\n",
       "      <td>AMUEAMKB4E33M</td>\n",
       "      <td>B01HJC7N4C</td>\n",
       "      <td>Super Fun! The RockRoc 3d vr headset is waaaay...</td>\n",
       "      <td>5.0</td>\n",
       "      <td>1468454400</td>\n",
       "    </tr>\n",
       "    <tr>\n",
       "      <th>1127670</th>\n",
       "      <td>A2EV91MMOJ3IL4</td>\n",
       "      <td>B01HJC7N4C</td>\n",
       "      <td>Love it!\\n\\nI've had other VR glasses which al...</td>\n",
       "      <td>5.0</td>\n",
       "      <td>1468368000</td>\n",
       "    </tr>\n",
       "    <tr>\n",
       "      <th>1127671</th>\n",
       "      <td>ARKQD9Z1VPOV2</td>\n",
       "      <td>B01HJH9IN6</td>\n",
       "      <td>i love it</td>\n",
       "      <td>5.0</td>\n",
       "      <td>1494460800</td>\n",
       "    </tr>\n",
       "  </tbody>\n",
       "</table>\n",
       "<p>1127672 rows × 5 columns</p>\n",
       "</div>"
      ],
      "text/plain": [
       "                 UserID   ProductID  \\\n",
       "0        A24E3SXTC62LJI  7508492919   \n",
       "1        A269FLZCB4GIPV  7508492919   \n",
       "2         AB6CHQWHZW4TV  7508492919   \n",
       "3         A1M117A53LEI8  7508492919   \n",
       "4        A272DUT8M88ZS8  7508492919   \n",
       "...                 ...         ...   \n",
       "1127667  A1QWMCG1FNEP3A  B01HJC7N4C   \n",
       "1127668  A3FOBEJ9UVUTR3  B01HJC7N4C   \n",
       "1127669   AMUEAMKB4E33M  B01HJC7N4C   \n",
       "1127670  A2EV91MMOJ3IL4  B01HJC7N4C   \n",
       "1127671   ARKQD9Z1VPOV2  B01HJH9IN6   \n",
       "\n",
       "                                                    Review  Overall Rating  \\\n",
       "0        Looks even better in person. Be careful to not...             5.0   \n",
       "1        When you don't want to spend a whole lot of ca...             5.0   \n",
       "2        so the case came on time, i love the design. I...             3.0   \n",
       "3        DON'T CARE FOR IT.  GAVE IT AS A GIFT AND THEY...             2.0   \n",
       "4        I liked it because it was cute, but the studs ...             4.0   \n",
       "...                                                    ...             ...   \n",
       "1127667  Good for viewing. But doesn't have a button or...             4.0   \n",
       "1127668  I was given the Rockrok 3D VR Glasses Headset ...             5.0   \n",
       "1127669  Super Fun! The RockRoc 3d vr headset is waaaay...             5.0   \n",
       "1127670  Love it!\\n\\nI've had other VR glasses which al...             5.0   \n",
       "1127671                                          i love it             5.0   \n",
       "\n",
       "         Review Time  \n",
       "0         1407110400  \n",
       "1         1392163200  \n",
       "2         1391817600  \n",
       "3         1391472000  \n",
       "4         1391385600  \n",
       "...              ...  \n",
       "1127667   1482364800  \n",
       "1127668   1468540800  \n",
       "1127669   1468454400  \n",
       "1127670   1468368000  \n",
       "1127671   1494460800  \n",
       "\n",
       "[1127672 rows x 5 columns]"
      ]
     },
     "execution_count": 6,
     "metadata": {},
     "output_type": "execute_result"
    }
   ],
   "source": [
    "df"
   ]
  },
  {
   "cell_type": "code",
   "execution_count": 7,
   "id": "183a7d89",
   "metadata": {},
   "outputs": [
    {
     "data": {
      "text/html": [
       "<div>\n",
       "<style scoped>\n",
       "    .dataframe tbody tr th:only-of-type {\n",
       "        vertical-align: middle;\n",
       "    }\n",
       "\n",
       "    .dataframe tbody tr th {\n",
       "        vertical-align: top;\n",
       "    }\n",
       "\n",
       "    .dataframe thead th {\n",
       "        text-align: right;\n",
       "    }\n",
       "</style>\n",
       "<table border=\"1\" class=\"dataframe\">\n",
       "  <thead>\n",
       "    <tr style=\"text-align: right;\">\n",
       "      <th></th>\n",
       "      <th>Overall Rating</th>\n",
       "      <th>Review Time</th>\n",
       "    </tr>\n",
       "  </thead>\n",
       "  <tbody>\n",
       "    <tr>\n",
       "      <th>count</th>\n",
       "      <td>1.127672e+06</td>\n",
       "      <td>1.127672e+06</td>\n",
       "    </tr>\n",
       "    <tr>\n",
       "      <th>mean</th>\n",
       "      <td>4.221138e+00</td>\n",
       "      <td>1.440386e+09</td>\n",
       "    </tr>\n",
       "    <tr>\n",
       "      <th>std</th>\n",
       "      <td>1.232042e+00</td>\n",
       "      <td>4.569655e+07</td>\n",
       "    </tr>\n",
       "    <tr>\n",
       "      <th>min</th>\n",
       "      <td>1.000000e+00</td>\n",
       "      <td>1.035331e+09</td>\n",
       "    </tr>\n",
       "    <tr>\n",
       "      <th>25%</th>\n",
       "      <td>4.000000e+00</td>\n",
       "      <td>1.416355e+09</td>\n",
       "    </tr>\n",
       "    <tr>\n",
       "      <th>50%</th>\n",
       "      <td>5.000000e+00</td>\n",
       "      <td>1.444349e+09</td>\n",
       "    </tr>\n",
       "    <tr>\n",
       "      <th>75%</th>\n",
       "      <td>5.000000e+00</td>\n",
       "      <td>1.470442e+09</td>\n",
       "    </tr>\n",
       "    <tr>\n",
       "      <th>max</th>\n",
       "      <td>5.000000e+00</td>\n",
       "      <td>1.538438e+09</td>\n",
       "    </tr>\n",
       "  </tbody>\n",
       "</table>\n",
       "</div>"
      ],
      "text/plain": [
       "       Overall Rating   Review Time\n",
       "count    1.127672e+06  1.127672e+06\n",
       "mean     4.221138e+00  1.440386e+09\n",
       "std      1.232042e+00  4.569655e+07\n",
       "min      1.000000e+00  1.035331e+09\n",
       "25%      4.000000e+00  1.416355e+09\n",
       "50%      5.000000e+00  1.444349e+09\n",
       "75%      5.000000e+00  1.470442e+09\n",
       "max      5.000000e+00  1.538438e+09"
      ]
     },
     "execution_count": 7,
     "metadata": {},
     "output_type": "execute_result"
    }
   ],
   "source": [
    "df.describe()"
   ]
  },
  {
   "cell_type": "markdown",
   "id": "33332cf3",
   "metadata": {},
   "source": [
    "Note that the rating is highly skewed, mean rating ~4.7"
   ]
  },
  {
   "cell_type": "code",
   "execution_count": 8,
   "id": "6261b0b3",
   "metadata": {},
   "outputs": [],
   "source": [
    "def convertToLower(text):\n",
    "    text = contractions.fix(str(text))\n",
    "    text=str(text).lower()\n",
    "    return text"
   ]
  },
  {
   "cell_type": "code",
   "execution_count": 9,
   "id": "8c5af317",
   "metadata": {},
   "outputs": [],
   "source": [
    "df[\"Review\"]=df[\"Review\"].apply(lambda x: convertToLower(x))"
   ]
  },
  {
   "cell_type": "code",
   "execution_count": 10,
   "id": "0921491f",
   "metadata": {},
   "outputs": [
    {
     "data": {
      "text/plain": [
       "0          looks even better in person. be careful to not...\n",
       "1          when you do not want to spend a whole lot of c...\n",
       "2          so the case came on time, i love the design. i...\n",
       "3          do not care for it.  gave it as a gift and the...\n",
       "4          i liked it because it was cute, but the studs ...\n",
       "                                 ...                        \n",
       "1127667    good for viewing. but does not have a button o...\n",
       "1127668    i was given the rockrok 3d vr glasses headset ...\n",
       "1127669    super fun! the rockroc 3d vr headset is waaaay...\n",
       "1127670    love it!\\n\\ni have had other vr glasses which ...\n",
       "1127671                                            i love it\n",
       "Name: Review, Length: 1127672, dtype: object"
      ]
     },
     "execution_count": 10,
     "metadata": {},
     "output_type": "execute_result"
    }
   ],
   "source": [
    "df[\"Review\"]"
   ]
  },
  {
   "cell_type": "code",
   "execution_count": 11,
   "id": "8a71cd1a",
   "metadata": {},
   "outputs": [],
   "source": [
    "def removeURLS(text):\n",
    "    text = re.sub(r\"((https?:\\/\\/)|(www\\.)){1}[a-zA-Z0-9@:%._\\+~#=/-]+\",\" \",text)\n",
    "    return text"
   ]
  },
  {
   "cell_type": "code",
   "execution_count": 12,
   "id": "d621fdad",
   "metadata": {},
   "outputs": [],
   "source": [
    "def removeHTMLTags(text):\n",
    "\n",
    "    text = re.sub(r\"<\\/?\\s*(html|base|head|link|meta|style|title|body|address|article|aside|footer|header|h1|h2|h3|h4|h5|h6|main|nav|section|blockquote|dd|div|dl|dt|figcaption|figure|hr|li|menu|ol|ul|p|pre|a|abbr|b|bdl|bdo|br|cite|code|data|dfn|em|i|kbd|mark|q|rp|rt|ruby|s|samp|small|span|strong|sub|sup|time|u|var|wbr|area|audio|img|map|track|video|embed|iframe|object|picture|portal|source|svg|math|canvas|noscript|script|del|ins|caption|col|colgroup|table|tbody|td|tfoot|th|thead|tr|button|datalist|fieldset|form|input|label|legend|meter|optgroup|option|output|progress|select|textarea|details|diolog|summary|slot|template)\\s*([A-Za-z\\s\\-]*\\s*\\=[\\.\\'\\\"_A-Z0-9\\sa-z\\/\\,\\-\\=\\:\\;]*)?\\/?\\s*>\",\" \",text)\n",
    "    return text"
   ]
  },
  {
   "cell_type": "code",
   "execution_count": null,
   "id": "721bca22",
   "metadata": {},
   "outputs": [],
   "source": [
    "df[\"Review\"]=df[\"Review\"].apply(lambda x: removeURLS(x))"
   ]
  },
  {
   "cell_type": "code",
   "execution_count": null,
   "id": "5108f9eb",
   "metadata": {},
   "outputs": [],
   "source": [
    "df[\"Review\"]=df[\"Review\"].apply(lambda x: removeHTMLTags(x))"
   ]
  },
  {
   "cell_type": "code",
   "execution_count": null,
   "id": "a62b3d5a",
   "metadata": {},
   "outputs": [],
   "source": [
    "def removePunctuations(text):\n",
    "    list_punc=list(string.punctuation)\n",
    "    for i in range(len(text)):\n",
    "        if text[i] in list_punc:\n",
    "            listText=list(text)\n",
    "            listText[i]=' '\n",
    "            text = ''.join(listText)\n",
    "    return text"
   ]
  },
  {
   "cell_type": "code",
   "execution_count": null,
   "id": "859e1c03",
   "metadata": {},
   "outputs": [],
   "source": [
    "df[\"Review\"]=df[\"Review\"].apply(lambda x: removePunctuations(x))"
   ]
  },
  {
   "cell_type": "code",
   "execution_count": null,
   "id": "22b856df",
   "metadata": {},
   "outputs": [],
   "source": [
    "df[\"Review\"]"
   ]
  },
  {
   "cell_type": "code",
   "execution_count": null,
   "id": "45888382",
   "metadata": {},
   "outputs": [],
   "source": [
    "def removeExtraWhiteSpaces(text):\n",
    "    text = re.sub(\"\\s+\",\" \",text)\n",
    "    return text"
   ]
  },
  {
   "cell_type": "code",
   "execution_count": null,
   "id": "4b8be555",
   "metadata": {},
   "outputs": [],
   "source": [
    "df[\"Review\"]=df[\"Review\"].apply(lambda x: removeExtraWhiteSpaces(x))"
   ]
  },
  {
   "cell_type": "code",
   "execution_count": null,
   "id": "faa6ab87",
   "metadata": {},
   "outputs": [],
   "source": [
    "STOP_WORDS=stopwords.words('english')\n",
    "\n",
    "STOP_WORDS.append(\"a\")\n",
    "STOP_WORDS.append(\"an\")\n",
    "STOP_WORDS.append(\"the\")"
   ]
  },
  {
   "cell_type": "code",
   "execution_count": null,
   "id": "1c7bd637",
   "metadata": {},
   "outputs": [],
   "source": [
    "# def removeStopWords(tokens):\n",
    "#     new_tokens = [token for token in tokens if token not in STOP_WORDS]\n",
    "#     return new_tokens"
   ]
  },
  {
   "cell_type": "code",
   "execution_count": null,
   "id": "97974186",
   "metadata": {},
   "outputs": [],
   "source": [
    "def tokenize_text(text):\n",
    "    tokens=word_tokenize(text)\n",
    "    return tokens"
   ]
  },
  {
   "cell_type": "code",
   "execution_count": null,
   "id": "1f0ab21c",
   "metadata": {},
   "outputs": [],
   "source": [
    "df[\"Review\"]=df[\"Review\"].apply(lambda x: tokenize_text(x))"
   ]
  },
  {
   "cell_type": "code",
   "execution_count": null,
   "id": "92a41681",
   "metadata": {},
   "outputs": [],
   "source": [
    "df[\"Review\"]"
   ]
  },
  {
   "cell_type": "code",
   "execution_count": null,
   "id": "566a451d",
   "metadata": {},
   "outputs": [],
   "source": [
    "# df[\"Review\"]=df[\"Review\"].apply(lambda x: removeStopWords(x))"
   ]
  },
  {
   "cell_type": "code",
   "execution_count": null,
   "id": "5a7192c2",
   "metadata": {},
   "outputs": [],
   "source": [
    "str(df[\"Review\"][0])"
   ]
  },
  {
   "cell_type": "code",
   "execution_count": null,
   "id": "58a3ffc8",
   "metadata": {},
   "outputs": [],
   "source": [
    "# stemmer = PorterStemmer()"
   ]
  },
  {
   "cell_type": "code",
   "execution_count": null,
   "id": "7e0d66e2",
   "metadata": {},
   "outputs": [],
   "source": [
    "# def stemText(tokens):\n",
    "#     stemTokens=[]\n",
    "#     for token in tokens:\n",
    "#         stemTokens.append(stemmer.stem(token))\n",
    "#     return stemTokens"
   ]
  },
  {
   "cell_type": "code",
   "execution_count": null,
   "id": "5abd04fc",
   "metadata": {},
   "outputs": [],
   "source": [
    "# df[\"Review\"]=df[\"Review\"].apply(lambda x: stemText(x))"
   ]
  },
  {
   "cell_type": "code",
   "execution_count": null,
   "id": "66b83720",
   "metadata": {},
   "outputs": [],
   "source": [
    "df[\"Review\"]"
   ]
  },
  {
   "cell_type": "code",
   "execution_count": null,
   "id": "719b0c90",
   "metadata": {},
   "outputs": [],
   "source": [
    "def generateCleanText(tokens):\n",
    "    cleanText=\" \".join([token for token in tokens])\n",
    "    return cleanText"
   ]
  },
  {
   "cell_type": "code",
   "execution_count": null,
   "id": "37b7180b",
   "metadata": {},
   "outputs": [],
   "source": [
    "df[\"Review\"]=df[\"Review\"].apply(lambda x: generateCleanText(x))"
   ]
  },
  {
   "cell_type": "code",
   "execution_count": null,
   "id": "2784420e",
   "metadata": {},
   "outputs": [],
   "source": [
    "df[\"Review\"]"
   ]
  },
  {
   "cell_type": "code",
   "execution_count": null,
   "id": "7eefb4aa",
   "metadata": {},
   "outputs": [],
   "source": [
    "sid_obj = SentimentIntensityAnalyzer()"
   ]
  },
  {
   "cell_type": "code",
   "execution_count": null,
   "id": "62afcf46",
   "metadata": {},
   "outputs": [],
   "source": [
    "sid_obj.polarity_scores(\"i like this movie very much. it was a great movie\")"
   ]
  },
  {
   "cell_type": "code",
   "execution_count": null,
   "id": "8757255c",
   "metadata": {},
   "outputs": [],
   "source": [
    "sid_obj.polarity_scores(\"movie was ok\")"
   ]
  },
  {
   "cell_type": "code",
   "execution_count": null,
   "id": "57208082",
   "metadata": {},
   "outputs": [],
   "source": [
    "def sentimentAnalysis(sentence):\n",
    "    sentiment_dict = sid_obj.polarity_scores(sentence)\n",
    "    return sentiment_dict[\"compound\"]"
   ]
  },
  {
   "cell_type": "code",
   "execution_count": null,
   "id": "21fba41e",
   "metadata": {},
   "outputs": [],
   "source": [
    "df[\"sentiment\"]=df[\"Review\"].apply(lambda x: sentimentAnalysis(x))"
   ]
  },
  {
   "cell_type": "code",
   "execution_count": null,
   "id": "1088622c",
   "metadata": {},
   "outputs": [],
   "source": [
    "df"
   ]
  },
  {
   "cell_type": "code",
   "execution_count": null,
   "id": "a29ac53a",
   "metadata": {},
   "outputs": [],
   "source": [
    "df.describe()"
   ]
  },
  {
   "cell_type": "code",
   "execution_count": null,
   "id": "3544dc58",
   "metadata": {},
   "outputs": [],
   "source": [
    "STOP_WORDS"
   ]
  },
  {
   "cell_type": "code",
   "execution_count": null,
   "id": "25533b9d",
   "metadata": {},
   "outputs": [],
   "source": [
    "df_new=df.drop(columns=[\"Review\", \"Review Time\"])"
   ]
  },
  {
   "cell_type": "code",
   "execution_count": null,
   "id": "95b38463",
   "metadata": {},
   "outputs": [],
   "source": [
    "df_new"
   ]
  },
  {
   "cell_type": "code",
   "execution_count": null,
   "id": "d25b9828",
   "metadata": {},
   "outputs": [],
   "source": [
    "df_new.to_csv(file_name+\"_user_item_map_sentiment.csv\", index=False)"
   ]
  },
  {
   "cell_type": "code",
   "execution_count": null,
   "id": "f429fbdc",
   "metadata": {},
   "outputs": [],
   "source": []
  }
 ],
 "metadata": {
  "kernelspec": {
   "display_name": "Python 3 (ipykernel)",
   "language": "python",
   "name": "python3"
  },
  "language_info": {
   "codemirror_mode": {
    "name": "ipython",
    "version": 3
   },
   "file_extension": ".py",
   "mimetype": "text/x-python",
   "name": "python",
   "nbconvert_exporter": "python",
   "pygments_lexer": "ipython3",
   "version": "3.10.5"
  }
 },
 "nbformat": 4,
 "nbformat_minor": 5
}
